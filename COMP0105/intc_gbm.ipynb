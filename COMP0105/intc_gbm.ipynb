{
 "cells": [
  {
   "cell_type": "code",
   "execution_count": 1,
   "metadata": {},
   "outputs": [],
   "source": [
    "import numpy as np\n",
    "import matplotlib.pyplot as plt\n",
    "import scipy.stats as ss\n",
    "\n",
    "from datetime import date\n",
    "\n",
    "plt.rcParams['axes.axisbelow'] = True   # Set axes and grid elements to be below the figure"
   ]
  },
  {
   "cell_type": "code",
   "execution_count": 2,
   "metadata": {},
   "outputs": [],
   "source": [
    "# Theoretical Mean of GBM\n",
    "def mean_gbm(x0, t, mu):\n",
    "    return x0 * np.exp(mu * t)\n",
    "\n",
    "# Theoretical Variance of GBM\n",
    "def var_gbm(x0, t, mu, sigma):\n",
    "    return x0**2 * np.exp(2 * t * (mu - sigma**2 / 2) + 2 * sigma**2 * t) - mean_gbm(x0, t, mu)**2"
   ]
  },
  {
   "cell_type": "code",
   "execution_count": 3,
   "metadata": {},
   "outputs": [],
   "source": [
    "# Get today's date\n",
    "# today = date.today()\n",
    "# today"
   ]
  },
  {
   "cell_type": "code",
   "execution_count": 4,
   "metadata": {},
   "outputs": [],
   "source": [
    "# T_START = date(2023, 11, 24) # FIXME: start date\n",
    "# T_END = date(2024, 3, 1)     # FIXME: end date\n",
    "\n",
    "# # Deriving information\n",
    "# T = (T_END - T_START).days / 365\n",
    "# T"
   ]
  },
  {
   "cell_type": "code",
   "execution_count": 5,
   "metadata": {},
   "outputs": [
    {
     "name": "stderr",
     "output_type": "stream",
     "text": [
      "<>:30: SyntaxWarning: invalid escape sequence '\\m'\n",
      "<>:30: SyntaxWarning: invalid escape sequence '\\s'\n",
      "<>:48: SyntaxWarning: invalid escape sequence '\\m'\n",
      "<>:48: SyntaxWarning: invalid escape sequence '\\s'\n",
      "<>:30: SyntaxWarning: invalid escape sequence '\\m'\n",
      "<>:30: SyntaxWarning: invalid escape sequence '\\s'\n",
      "<>:48: SyntaxWarning: invalid escape sequence '\\m'\n",
      "<>:48: SyntaxWarning: invalid escape sequence '\\s'\n",
      "C:\\Users\\Jason\\AppData\\Local\\Temp\\ipykernel_20484\\2454815481.py:30: SyntaxWarning: invalid escape sequence '\\m'\n",
      "  plt.title(f\"Simulated GBM Trajectories with parameters $\\mu = {MU}$, $\\sigma = {SIGMA}$\")\n",
      "C:\\Users\\Jason\\AppData\\Local\\Temp\\ipykernel_20484\\2454815481.py:30: SyntaxWarning: invalid escape sequence '\\s'\n",
      "  plt.title(f\"Simulated GBM Trajectories with parameters $\\mu = {MU}$, $\\sigma = {SIGMA}$\")\n",
      "C:\\Users\\Jason\\AppData\\Local\\Temp\\ipykernel_20484\\2454815481.py:48: SyntaxWarning: invalid escape sequence '\\m'\n",
      "  plt.title(f\"Histogram of the Final Values and Theoretical Lognormal PDF with parameters $\\mu = {MU}$, $\\sigma = {SIGMA}$\")\n",
      "C:\\Users\\Jason\\AppData\\Local\\Temp\\ipykernel_20484\\2454815481.py:48: SyntaxWarning: invalid escape sequence '\\s'\n",
      "  plt.title(f\"Histogram of the Final Values and Theoretical Lognormal PDF with parameters $\\mu = {MU}$, $\\sigma = {SIGMA}$\")\n"
     ]
    }
   ],
   "source": [
    "# Today\n",
    "T_START = date(2023, 11, 24) # FIXME: start date\n",
    "T_END = date(2024, 3, 1)     # FIXME: end date\n",
    "\n",
    "# GBM parameters\n",
    "N_SIMS = 100000      # FIXME: number of simulations\n",
    "N_STEPS = (T_END - T_START).days        # FIXME: number of steps (excluding t = 0)\n",
    "MU = 0.0531 - 0.0112        # FIXME: drift\n",
    "SIGMA = 0.3397      # FIXME: volatility\n",
    "# X0 = 38.365       # FIXME: initial value\n",
    "X0 = 43.680         # FIXME: initial value\n",
    "\n",
    "# Deriving information\n",
    "# T = (T_END - T_START).days / 252\n",
    "T = N_STEPS / 360\n",
    "dt = T / N_STEPS\n",
    "\n",
    "# Starting simulation\n",
    "Z = np.random.normal(0, 1, size = (N_STEPS, N_SIMS))\n",
    "X = np.exp((MU - SIGMA**2 / 2) * dt  + SIGMA * np.sqrt(dt) * Z)\n",
    "X = np.cumprod(X, axis = 0)\n",
    "X = np.vstack([np.ones(N_SIMS), X]) # Stack a row of ones on the top of the post-cumulated matrix\n",
    "X *= X0\n",
    "\n",
    "# PLOTS ====================================================================================================\n",
    "\n",
    "# Plotting trajectories ---------------------------------------------------------------\n",
    "plt.figure(figsize = (12, 5), clear = True)\n",
    "\n",
    "plt.title(f\"Simulated GBM Trajectories with parameters $\\mu = {MU}$, $\\sigma = {SIGMA}$\")\n",
    "plt.plot(X, color = \"red\", alpha = 0.02)\n",
    "\n",
    "plt.xlabel(\"Time\")\n",
    "plt.ylabel(\"Stock Price\")\n",
    "\n",
    "# Ticks from 24/11/2023 to 01/03/2024\n",
    "plt.xticks(np.linspace(0, N_STEPS, 5), [T_START + i * (T_END - T_START) / 4 for i in range(5)])\n",
    "plt.grid()\n",
    "plt.show()\n",
    "\n",
    "# Histograms of the final values -----------------------------------------------------\n",
    "plt.figure(figsize = (12, 5), clear = True)\n",
    "\n",
    "plt.title(f\"Histogram of the Final Values and Theoretical Lognormal PDF with parameters $\\mu = {MU}$, $\\sigma = {SIGMA}$\")\n",
    "plt.hist(X[-1, :], bins = 50, color = \"red\", density = True, alpha = 0.5)\n",
    "\n",
    "# Theoretical pdf\n",
    "x = np.linspace(0, 100, 1000)\n",
    "y = ss.lognorm.pdf(x, s = SIGMA * np.sqrt(T), scale = X0 * np.exp(MU * T))\n",
    "plt.plot(x, y, color = \"black\", label = \"Theoretical PDF\")\n",
    "\n",
    "# Generate 90% confidence interval\n",
    "X_sorted = np.sort(X[-1, :])\n",
    "X_sorted = X_sorted[int(0.05 * N_SIMS) : int(0.95 * N_SIMS)]\n",
    "plt.axvline(x = X_sorted[0], color = \"black\", ls = \"--\", label = \"90% Confidence Interval\")\n",
    "plt.axvline(x = X_sorted[-1], color = \"black\", ls = \"--\")\n",
    "\n",
    "# Mark the mean\n",
    "plt.axvline(x = np.mean(X[-1, :]), color = \"blue\", ls = \"-\", label = f\"mean = {np.mean(X[-1, :]):.2f}\")\n",
    "\n",
    "plt.grid()\n",
    "plt.legend()\n",
    "\n",
    "plt.show()"
   ]
  },
  {
   "cell_type": "code",
   "execution_count": null,
   "metadata": {},
   "outputs": [
    {
     "data": {
      "text/plain": [
       "98"
      ]
     },
     "execution_count": 41,
     "metadata": {},
     "output_type": "execute_result"
    }
   ],
   "source": []
  }
 ],
 "metadata": {
  "kernelspec": {
   "display_name": "Python 3",
   "language": "python",
   "name": "python3"
  },
  "language_info": {
   "codemirror_mode": {
    "name": "ipython",
    "version": 3
   },
   "file_extension": ".py",
   "mimetype": "text/x-python",
   "name": "python",
   "nbconvert_exporter": "python",
   "pygments_lexer": "ipython3",
   "version": "3.12.0"
  }
 },
 "nbformat": 4,
 "nbformat_minor": 2
}
