{
 "cells": [
  {
   "cell_type": "code",
   "execution_count": 6,
   "metadata": {},
   "outputs": [
    {
     "name": "stdout",
     "output_type": "stream",
     "text": [
      "0.666527\n"
     ]
    }
   ],
   "source": [
    "import numpy as np\n",
    "\n",
    "N = 1000000\n",
    "count = 0\n",
    "for i in range(N):\n",
    "    a = np.random.uniform(-1, 1)\n",
    "    b = np.random.uniform(-1, 1)\n",
    "    if a**2 - b >= 0:\n",
    "        count += 1\n",
    "\n",
    "print(count/N) "
   ]
  },
  {
   "cell_type": "code",
   "execution_count": 7,
   "metadata": {},
   "outputs": [
    {
     "name": "stdout",
     "output_type": "stream",
     "text": [
      "0.39269908169872414\n"
     ]
    }
   ],
   "source": [
    "print(np.pi / 2 / 4)"
   ]
  },
  {
   "cell_type": "code",
   "execution_count": 1,
   "metadata": {},
   "outputs": [
    {
     "data": {
      "text/plain": [
       "93"
      ]
     },
     "execution_count": 1,
     "metadata": {},
     "output_type": "execute_result"
    }
   ],
   "source": [
    "def solution(A):\n",
    "    max_sum = -1\n",
    "    for i in range(len(A)):\n",
    "        num = A[i]\n",
    "        sum_digits_num = sum(int(digit) for digit in str(num))\n",
    "        for j in range(i + 1, len(A)):\n",
    "            other_num = A[j]\n",
    "            sum_digits_other_num = sum(int(digit) for digit in str(other_num))\n",
    "            if sum_digits_num == sum_digits_other_num:\n",
    "                max_sum = max(max_sum, num + other_num)\n",
    "    if max_sum == -1:\n",
    "        return -1\n",
    "    return max_sum\n",
    "\n",
    "solution([51, 71, 17, 42])"
   ]
  },
  {
   "cell_type": "code",
   "execution_count": null,
   "metadata": {},
   "outputs": [],
   "source": [
    "def solution(A):\n",
    "    max_sum = -1\n",
    "    for i in range(len(A)):\n",
    "        for j in range(i + 1, len(A)):\n",
    "            num = A[i]\n",
    "            other_num = A[j]\n",
    "            sum_digits_num = sum(int(digit) for digit in str(num))\n",
    "            sum_digits_other_num = sum(int(digit) for digit in str(other_num))\n",
    "            if sum_digits_num == sum_digits_other_num:\n",
    "                max_sum = max(max_sum, num + other_num)\n",
    "    if max_sum == -1:\n",
    "        return -1\n",
    "    return max_sum\n",
    "\n",
    "solution([51, 71, 17, 42])\n"
   ]
  },
  {
   "cell_type": "markdown",
   "metadata": {},
   "source": [
    "You are given N fractions. Fractions are represented as two arrays, X and Y of length N, containing the fraction numerators and denominators respectively.\n",
    "Write a function that, given such arrays X and Y of length N, returns the number of possible ways to choose a pair of fractions that sum up to 1. Since the answer can be large, provide it modulo 10 + 7 (1,000,000,007). Note that a single fraction can form multiple pairs."
   ]
  },
  {
   "cell_type": "code",
   "execution_count": null,
   "metadata": {},
   "outputs": [],
   "source": [
    "def count_fraction_pairs(X, Y):\n",
    "    count = 0\n",
    "    for i in range(len(X)):\n",
    "        for j in range(i+1, len(X)):\n",
    "            if (X[i]*Y[j] + X[j]*Y[i]) % (Y[i]*Y[j]) == 0:\n",
    "                count += 1\n",
    "    return count % (10**7 + 7)\n"
   ]
  },
  {
   "cell_type": "code",
   "execution_count": 13,
   "metadata": {},
   "outputs": [
    {
     "data": {
      "text/plain": [
       "10"
      ]
     },
     "execution_count": 13,
     "metadata": {},
     "output_type": "execute_result"
    }
   ],
   "source": [
    "from fractions import Fraction\n",
    "\n",
    "def solution(X, Y):\n",
    "    # Implement your solution here\n",
    "    fraction = []\n",
    "\n",
    "    for i in range(len(X)):\n",
    "        fraction.append(Fraction(X[i], Y[i]))\n",
    "\n",
    "    fraction = sorted(fraction)\n",
    "\n",
    "    records = {}\n",
    "    count = 0\n",
    "\n",
    "    for frac in fraction:\n",
    "        target = 1 - frac\n",
    "        if target in records:\n",
    "            count += records[target]\n",
    "        records[frac] = records.get(frac, 0) + 1\n",
    "    \n",
    "    return count % (10**7 + 7)\n",
    "        \n",
    "\n",
    "\n",
    "# X = [1, 1, 2]\n",
    "# Y = [3, 2, 3]\n",
    "\n",
    "# X = [1, 1, 1]\n",
    "# Y = [2, 2, 2]\n",
    "\n",
    "X = [1, 2, 3, 1, 2, 12, 8, 4]\n",
    "Y = [5, 10, 15, 2, 4, 15, 10, 5]\n",
    "\n",
    "solution(X, Y)"
   ]
  },
  {
   "cell_type": "code",
   "execution_count": 9,
   "metadata": {},
   "outputs": [
    {
     "data": {
      "text/plain": [
       "13"
      ]
     },
     "execution_count": 9,
     "metadata": {},
     "output_type": "execute_result"
    }
   ],
   "source": []
  },
  {
   "cell_type": "code",
   "execution_count": 14,
   "metadata": {},
   "outputs": [
    {
     "data": {
      "text/plain": [
       "False"
      ]
     },
     "execution_count": 14,
     "metadata": {},
     "output_type": "execute_result"
    }
   ],
   "source": []
  }
 ],
 "metadata": {
  "kernelspec": {
   "display_name": "Python 3",
   "language": "python",
   "name": "python3"
  },
  "language_info": {
   "codemirror_mode": {
    "name": "ipython",
    "version": 3
   },
   "file_extension": ".py",
   "mimetype": "text/x-python",
   "name": "python",
   "nbconvert_exporter": "python",
   "pygments_lexer": "ipython3",
   "version": "3.12.0"
  }
 },
 "nbformat": 4,
 "nbformat_minor": 2
}
