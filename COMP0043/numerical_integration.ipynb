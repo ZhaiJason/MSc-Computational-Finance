{
 "cells": [
  {
   "cell_type": "markdown",
   "metadata": {},
   "source": [
    "## Numerical Integration"
   ]
  },
  {
   "cell_type": "markdown",
   "metadata": {},
   "source": [
    "#### Equal Space"
   ]
  },
  {
   "cell_type": "code",
   "execution_count": 1,
   "metadata": {},
   "outputs": [
    {
     "name": "stdout",
     "output_type": "stream",
     "text": [
      "0.33333349999999995\n"
     ]
    }
   ],
   "source": [
    "# Equal space numerical integration\n",
    "def integrate(f, a, b, N):\n",
    "    \"\"\"\n",
    "    Numerically integrate using the trapezoid rule with N intervals.\n",
    "\n",
    "    Parameters\n",
    "    ----------\n",
    "    f : function\n",
    "        Function to integrate.\n",
    "    a : float\n",
    "        Lower limit of integration.\n",
    "    b : float\n",
    "        Upper limit of integration.\n",
    "    N : int\n",
    "        Number of intervals to use.\n",
    "\n",
    "    Returns\n",
    "    -------\n",
    "    float\n",
    "        Integral of f from a to b.\n",
    "    \"\"\"\n",
    "\n",
    "    h = (b - a) / N # Interval length\n",
    "    s = 0.5 * f(a) + 0.5 * f(b) # Sum of the function values at the end points\n",
    "\n",
    "    for k in range(1, N):\n",
    "        s += f(a + k * h)\n",
    "\n",
    "    return h * s\n",
    "\n",
    "# Test\n",
    "print(integrate(lambda x: x**2, 0, 1, 1000))"
   ]
  },
  {
   "cell_type": "markdown",
   "metadata": {},
   "source": [
    "#### Trapz"
   ]
  },
  {
   "cell_type": "code",
   "execution_count": 1,
   "metadata": {},
   "outputs": [
    {
     "name": "stdout",
     "output_type": "stream",
     "text": [
      "Hello World\n"
     ]
    }
   ],
   "source": []
  },
  {
   "cell_type": "markdown",
   "metadata": {},
   "source": [
    "#### Simpson's Rule"
   ]
  },
  {
   "cell_type": "code",
   "execution_count": null,
   "metadata": {},
   "outputs": [],
   "source": []
  },
  {
   "cell_type": "code",
   "execution_count": null,
   "metadata": {},
   "outputs": [],
   "source": []
  }
 ],
 "metadata": {
  "kernelspec": {
   "display_name": "Python 3",
   "language": "python",
   "name": "python3"
  },
  "language_info": {
   "codemirror_mode": {
    "name": "ipython",
    "version": 3
   },
   "file_extension": ".py",
   "mimetype": "text/x-python",
   "name": "python",
   "nbconvert_exporter": "python",
   "pygments_lexer": "ipython3",
   "version": "3.9.6"
  }
 },
 "nbformat": 4,
 "nbformat_minor": 2
}
